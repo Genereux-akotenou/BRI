{
 "cells": [
  {
   "cell_type": "code",
   "execution_count": 2,
   "metadata": {},
   "outputs": [
    {
     "name": "stdout",
     "output_type": "stream",
     "text": [
      "Note: you may need to restart the kernel to use updated packages.\n"
     ]
    },
    {
     "name": "stderr",
     "output_type": "stream",
     "text": [
      "ERROR: Could not find a version that satisfies the requirement google_maps (from versions: none)\n",
      "ERROR: No matching distribution found for google_maps\n",
      "\n",
      "[notice] A new release of pip available: 22.3.1 -> 24.0\n",
      "[notice] To update, run: python.exe -m pip install --upgrade pip\n"
     ]
    }
   ],
   "source": [
    "pip install google_maps"
   ]
  },
  {
   "cell_type": "code",
   "execution_count": 7,
   "metadata": {},
   "outputs": [
    {
     "name": "stdout",
     "output_type": "stream",
     "text": [
      "https://www.google.com/maps/search/?api=1&query=Bank%20Rabat%2C%20Morocco\n"
     ]
    }
   ],
   "source": [
    "import urllib.parse\n",
    "\n",
    "def generate_google_maps_link(address):\n",
    "    base_url = \"https://www.google.com/maps/search/?api=1&query=\"\n",
    "\n",
    "    # Encode the address to be URL safe\n",
    "    url_safe_address = urllib.parse.quote(address)\n",
    "\n",
    "    # Concatenate the base URL and the encoded address\n",
    "    full_url = base_url + url_safe_address\n",
    "\n",
    "    return full_url\n",
    "\n",
    "# Test the function\n",
    "address = \"Bank Rabat, Morocco\"\n",
    "print(generate_google_maps_link(address))"
   ]
  }
 ],
 "metadata": {
  "kernelspec": {
   "display_name": "Python 3",
   "language": "python",
   "name": "python3"
  },
  "language_info": {
   "codemirror_mode": {
    "name": "ipython",
    "version": 3
   },
   "file_extension": ".py",
   "mimetype": "text/x-python",
   "name": "python",
   "nbconvert_exporter": "python",
   "pygments_lexer": "ipython3",
   "version": "3.11.2"
  }
 },
 "nbformat": 4,
 "nbformat_minor": 2
}
