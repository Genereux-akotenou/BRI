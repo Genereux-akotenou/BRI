{
 "cells": [
  {
   "cell_type": "code",
   "execution_count": 3,
   "metadata": {},
   "outputs": [
    {
     "name": "stdout",
     "output_type": "stream",
     "text": [
      "https://www.google.com/maps/search/Banque%20B%C3%A9nin\n",
      "https://www.google.com/maps/search/Banque%20Maroc\n"
     ]
    }
   ],
   "source": [
    "# build links for the maiimport urllib.parse\n",
    "import urllib.parse\n",
    "\n",
    "def generate_google_maps_search_link(place):\n",
    "    base_url = \"https://www.google.com/maps/search/\"\n",
    "    encoded_place = urllib.parse.quote(place)\n",
    "    search_url = f\"{base_url}{encoded_place}\"\n",
    "    return search_url\n",
    "\n",
    "# Example usage\n",
    "places = [\"Banque Bénin\", \"Banque Maroc\"]\n",
    "for place in places:\n",
    "    print(generate_google_maps_search_link(place))"
   ]
  }
 ],
 "metadata": {
  "kernelspec": {
   "display_name": "Python 3",
   "language": "python",
   "name": "python3"
  },
  "language_info": {
   "codemirror_mode": {
    "name": "ipython",
    "version": 3
   },
   "file_extension": ".py",
   "mimetype": "text/x-python",
   "name": "python",
   "nbconvert_exporter": "python",
   "pygments_lexer": "ipython3",
   "version": "3.11.0"
  }
 },
 "nbformat": 4,
 "nbformat_minor": 2
}
