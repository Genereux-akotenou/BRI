{
 "cells": [
  {
   "cell_type": "code",
   "execution_count": 1,
   "metadata": {},
   "outputs": [],
   "source": [
    "from topificator import TopicExtractor"
   ]
  },
  {
   "cell_type": "code",
   "execution_count": 2,
   "metadata": {},
   "outputs": [],
   "source": [
    "reviews = [\n",
    "    \"I hate this bank. I would not recommend. They offer service online and to create an account we have to come to their agency.\",\n",
    "    \"Great experience with this bank. Fast and reliable services.\",\n",
    "    \"Poor customer support. Long waiting times.\"\n",
    "]"
   ]
  },
  {
   "cell_type": "code",
   "execution_count": 3,
   "metadata": {},
   "outputs": [],
   "source": [
    "extractor = TopicExtractor(model=\"llama3\")\n",
    "result = extractor.extract(reviews, type='MULTI_SOURCE')"
   ]
  },
  {
   "cell_type": "code",
   "execution_count": 4,
   "metadata": {},
   "outputs": [
    {
     "data": {
      "text/plain": [
       "{'1': {'primary_topic': [('bank service', 'Negative'),\n",
       "   ('account creation process', 'Negative')],\n",
       "  'detailed_topic': {'service online': ['online service'],\n",
       "   'create an account': ['in-person required']},\n",
       "  'sentiment': {}},\n",
       " '2': {'primary_topic': [('bank experience', 'Positive'),\n",
       "   ('services', 'Positive')],\n",
       "  'detailed_topic': {'experience with bank': ['great'],\n",
       "   'fast and reliable services': ['fast', 'reliable']},\n",
       "  'sentiment': {}},\n",
       " '3': {'primary_topic': [('customer support', 'Negative'),\n",
       "   ('waiting times', 'Negative')],\n",
       "  'detailed_topic': {'poor customer support': ['poor'],\n",
       "   'long waiting times': ['long']},\n",
       "  'sentiment': {}}}"
      ]
     },
     "execution_count": 4,
     "metadata": {},
     "output_type": "execute_result"
    }
   ],
   "source": [
    "result"
   ]
  },
  {
   "cell_type": "code",
   "execution_count": null,
   "metadata": {},
   "outputs": [],
   "source": [
    "# GOOD - MVC DONE"
   ]
  }
 ],
 "metadata": {
  "kernelspec": {
   "display_name": "PyGenomics",
   "language": "python",
   "name": "pygenomics"
  },
  "language_info": {
   "codemirror_mode": {
    "name": "ipython",
    "version": 3
   },
   "file_extension": ".py",
   "mimetype": "text/x-python",
   "name": "python",
   "nbconvert_exporter": "python",
   "pygments_lexer": "ipython3",
   "version": "3.11.7"
  }
 },
 "nbformat": 4,
 "nbformat_minor": 4
}
