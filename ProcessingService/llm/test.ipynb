{
 "cells": [
  {
   "cell_type": "code",
   "execution_count": 1,
   "metadata": {},
   "outputs": [],
   "source": [
    "from topificator import TopicExtractor\n",
    "extractor = TopicExtractor(model=\"llama3\", patience=5)"
   ]
  },
  {
   "cell_type": "markdown",
   "metadata": {},
   "source": [
    "* Review Bank"
   ]
  },
  {
   "cell_type": "code",
   "execution_count": 2,
   "metadata": {},
   "outputs": [],
   "source": [
    "reviews = [\n",
    "    \"Les horaires d'ouverture des agences ne sont pas pratiques pour les travailleurs. Les taux d'intérêt sont très compétitifs. Le processus de clôture de compte est très compliqué.\",\n",
    "    \"L'ouverture de compte a été très rapide et simple. Le personnel est toujours accueillant et souriant.\",\n",
    "    \"Je suis déçu par le manque de transparence sur les frais. La banque offre de nombreux services utiles pour les PME.\",\n",
    "    \"Les notifications par SMS sont très utiles pour suivre les transactions. C'est quoi cette merde vous avez de longue fille devant votre agence. J'attend pendant 3h et on me dire que je ne peut etre servir. Je ne reviendrai plus jamais.\",\n",
    "    \"Je trouve que les applications bancaires sont trop compliquées. Le service de conseil en investissement est excellent. Les horaires d'ouverture des agences ne sont pas pratiques pour les travailleurs.\"\n",
    "]"
   ]
  },
  {
   "cell_type": "markdown",
   "metadata": {},
   "source": [
    "* Test"
   ]
  },
  {
   "cell_type": "code",
   "execution_count": 3,
   "metadata": {},
   "outputs": [
    {
     "name": "stdout",
     "output_type": "stream",
     "text": [
      "{\n",
      "\"topics\": [\n",
      "  (\"Notifications par SMS\", \"Positive\", [\"utiles\", \"transactions\"]),\n",
      "  (\"Service client\", \"Negative\", [\"3h\", \"ne peut être servi\"]),\n",
      "  (\"Recommandation\", \"Negative\", [\"ne reviendra plus jamais\"])\n",
      "]\n"
     ]
    }
   ],
   "source": [
    "topics = extractor.extract(reviews[3], type='SINGLE_SOURCE')"
   ]
  },
  {
   "cell_type": "markdown",
   "metadata": {},
   "source": [
    "* Transform"
   ]
  },
  {
   "cell_type": "code",
   "execution_count": 4,
   "metadata": {},
   "outputs": [
    {
     "data": {
      "text/html": [
       "<div>\n",
       "<style scoped>\n",
       "    .dataframe tbody tr th:only-of-type {\n",
       "        vertical-align: middle;\n",
       "    }\n",
       "\n",
       "    .dataframe tbody tr th {\n",
       "        vertical-align: top;\n",
       "    }\n",
       "\n",
       "    .dataframe thead th {\n",
       "        text-align: right;\n",
       "    }\n",
       "</style>\n",
       "<table border=\"1\" class=\"dataframe\">\n",
       "  <thead>\n",
       "    <tr style=\"text-align: right;\">\n",
       "      <th></th>\n",
       "      <th>topic</th>\n",
       "      <th>sentiment</th>\n",
       "      <th>subtopics</th>\n",
       "    </tr>\n",
       "  </thead>\n",
       "  <tbody>\n",
       "    <tr>\n",
       "      <th>0</th>\n",
       "      <td>Notifications par SMS</td>\n",
       "      <td>Positive</td>\n",
       "      <td>[utiles, transactions]</td>\n",
       "    </tr>\n",
       "    <tr>\n",
       "      <th>1</th>\n",
       "      <td>Service client</td>\n",
       "      <td>Negative</td>\n",
       "      <td>[3h, ne peut être servi]</td>\n",
       "    </tr>\n",
       "    <tr>\n",
       "      <th>2</th>\n",
       "      <td>Recommandation</td>\n",
       "      <td>Negative</td>\n",
       "      <td>[ne reviendra plus jamais]</td>\n",
       "    </tr>\n",
       "  </tbody>\n",
       "</table>\n",
       "</div>"
      ],
      "text/plain": [
       "                   topic sentiment                   subtopics\n",
       "0  Notifications par SMS  Positive      [utiles, transactions]\n",
       "1         Service client  Negative    [3h, ne peut être servi]\n",
       "2         Recommandation  Negative  [ne reviendra plus jamais]"
      ]
     },
     "execution_count": 4,
     "metadata": {},
     "output_type": "execute_result"
    }
   ],
   "source": [
    "df = extractor.to_dataframe(topics)\n",
    "df"
   ]
  },
  {
   "cell_type": "markdown",
   "metadata": {},
   "source": [
    "<div style=\"background-color:orange; padding: 0.5em; color: white;\">\n",
    "    Notice to the developer: This module may return errors due to improper handling. Using it without error management is simply an irresponsible act in production.\n",
    "</div>"
   ]
  },
  {
   "cell_type": "markdown",
   "metadata": {},
   "source": [
    "**Hahaha**. but we are working to improve it resilience."
   ]
  }
 ],
 "metadata": {
  "kernelspec": {
   "display_name": "PyGenomics",
   "language": "python",
   "name": "pygenomics"
  },
  "language_info": {
   "codemirror_mode": {
    "name": "ipython",
    "version": 3
   },
   "file_extension": ".py",
   "mimetype": "text/x-python",
   "name": "python",
   "nbconvert_exporter": "python",
   "pygments_lexer": "ipython3",
   "version": "3.11.7"
  }
 },
 "nbformat": 4,
 "nbformat_minor": 4
}
