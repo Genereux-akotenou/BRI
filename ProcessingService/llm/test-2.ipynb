{
 "cells": [
  {
   "cell_type": "code",
   "execution_count": 1,
   "metadata": {},
   "outputs": [],
   "source": [
    "from topificator import TopicExtractor\n",
    "import pandas as pd\n",
    "from tqdm import tqdm\n",
    "\n",
    "extractor = TopicExtractor(model=\"llama3\", patience=5)"
   ]
  },
  {
   "cell_type": "markdown",
   "metadata": {},
   "source": [
    "* Review Bank"
   ]
  },
  {
   "cell_type": "code",
   "execution_count": 2,
   "metadata": {},
   "outputs": [],
   "source": [
    "df = pd.read_parquet('./Rabat.parquet')\n",
    "df['Topic'] = {}"
   ]
  },
  {
   "cell_type": "code",
   "execution_count": 3,
   "metadata": {},
   "outputs": [
    {
     "data": {
      "text/plain": [
       "(20, 15)"
      ]
     },
     "execution_count": 3,
     "metadata": {},
     "output_type": "execute_result"
    }
   ],
   "source": [
    "df.shape"
   ]
  },
  {
   "cell_type": "code",
   "execution_count": 4,
   "metadata": {},
   "outputs": [
    {
     "data": {
      "text/html": [
       "<div>\n",
       "<style scoped>\n",
       "    .dataframe tbody tr th:only-of-type {\n",
       "        vertical-align: middle;\n",
       "    }\n",
       "\n",
       "    .dataframe tbody tr th {\n",
       "        vertical-align: top;\n",
       "    }\n",
       "\n",
       "    .dataframe thead th {\n",
       "        text-align: right;\n",
       "    }\n",
       "</style>\n",
       "<table border=\"1\" class=\"dataframe\">\n",
       "  <thead>\n",
       "    <tr style=\"text-align: right;\">\n",
       "      <th></th>\n",
       "      <th>Country</th>\n",
       "      <th>Town</th>\n",
       "      <th>Bank_Name</th>\n",
       "      <th>Bank_Phone_number</th>\n",
       "      <th>Bank_Address</th>\n",
       "      <th>Bank_Website</th>\n",
       "      <th>Reviewer_Nane</th>\n",
       "      <th>Reviewer_Sart</th>\n",
       "      <th>Reviewer_Text</th>\n",
       "      <th>Reviewer_Publish_Date</th>\n",
       "      <th>Reviewer_Like_Reaction</th>\n",
       "      <th>Reviewer_Profil_Link</th>\n",
       "      <th>Reviewer_Owner_Reply</th>\n",
       "      <th>Reviewer_Owner_Reply_Date</th>\n",
       "      <th>Topic</th>\n",
       "    </tr>\n",
       "  </thead>\n",
       "  <tbody>\n",
       "    <tr>\n",
       "      <th>0</th>\n",
       "      <td>Morocco</td>\n",
       "      <td>Rabat</td>\n",
       "      <td>Société De Crédit Vivalis</td>\n",
       "      <td>080-1022222</td>\n",
       "      <td>2589+7F2, Av. Moulay Hassan, Rabat</td>\n",
       "      <td>Not available</td>\n",
       "      <td>Mohammed El idrissi kazzouz</td>\n",
       "      <td>2</td>\n",
       "      <td>NAN</td>\n",
       "      <td>il y a 5 ans</td>\n",
       "      <td>0</td>\n",
       "      <td>https://www.google.com/maps/contrib/1092060191...</td>\n",
       "      <td>NaN</td>\n",
       "      <td>NAN</td>\n",
       "      <td>NaN</td>\n",
       "    </tr>\n",
       "    <tr>\n",
       "      <th>1</th>\n",
       "      <td>Morocco</td>\n",
       "      <td>Rabat</td>\n",
       "      <td>La Banque Mondiale</td>\n",
       "      <td>05376-36050</td>\n",
       "      <td>X5G4+4CX, Rue Larbi Ben Abdellah, Rabat</td>\n",
       "      <td>Not available</td>\n",
       "      <td>Soad Moroco</td>\n",
       "      <td>4</td>\n",
       "      <td>NAN</td>\n",
       "      <td>il y a 6 ans</td>\n",
       "      <td>0</td>\n",
       "      <td>https://www.google.com/maps/contrib/1183005452...</td>\n",
       "      <td>NaN</td>\n",
       "      <td>NAN</td>\n",
       "      <td>NaN</td>\n",
       "    </tr>\n",
       "    <tr>\n",
       "      <th>2</th>\n",
       "      <td>Morocco</td>\n",
       "      <td>Rabat</td>\n",
       "      <td>Crédit du Maroc</td>\n",
       "      <td>05376-74352</td>\n",
       "      <td>Rabat</td>\n",
       "      <td>Not available</td>\n",
       "      <td>Nabil RACHIDI</td>\n",
       "      <td>1</td>\n",
       "      <td>Je ne comprends pas le faite de voir des dizai...</td>\n",
       "      <td>il y a 3 mois</td>\n",
       "      <td>0</td>\n",
       "      <td>https://www.google.com/maps/contrib/1056241967...</td>\n",
       "      <td>NaN</td>\n",
       "      <td>NAN</td>\n",
       "      <td>NaN</td>\n",
       "    </tr>\n",
       "    <tr>\n",
       "      <th>3</th>\n",
       "      <td>Morocco</td>\n",
       "      <td>Rabat</td>\n",
       "      <td>BMCE BANK Agence Rabat Centrale</td>\n",
       "      <td>05372-16152</td>\n",
       "      <td>260 Av. Mohammed V, Rabat</td>\n",
       "      <td>Not available</td>\n",
       "      <td>Driss TAKKI CHEBIHI</td>\n",
       "      <td>4</td>\n",
       "      <td>NAN</td>\n",
       "      <td>il y a 7 ans</td>\n",
       "      <td>0</td>\n",
       "      <td>https://www.google.com/maps/contrib/1149958081...</td>\n",
       "      <td>NaN</td>\n",
       "      <td>NAN</td>\n",
       "      <td>NaN</td>\n",
       "    </tr>\n",
       "    <tr>\n",
       "      <th>4</th>\n",
       "      <td>Morocco</td>\n",
       "      <td>Rabat</td>\n",
       "      <td>Bank Al-Maghrib</td>\n",
       "      <td>Not available</td>\n",
       "      <td>277 Av. Mohammed V, Rabat 10000</td>\n",
       "      <td>bkam.ma</td>\n",
       "      <td>mohamed mchatte</td>\n",
       "      <td>4</td>\n",
       "      <td>NAN</td>\n",
       "      <td>il y a 12 ans</td>\n",
       "      <td>0</td>\n",
       "      <td>https://www.google.com/maps/contrib/1050319361...</td>\n",
       "      <td>NaN</td>\n",
       "      <td>NAN</td>\n",
       "      <td>NaN</td>\n",
       "    </tr>\n",
       "  </tbody>\n",
       "</table>\n",
       "</div>"
      ],
      "text/plain": [
       "   Country   Town                        Bank_Name Bank_Phone_number  \\\n",
       "0  Morocco  Rabat        Société De Crédit Vivalis       080-1022222   \n",
       "1  Morocco  Rabat               La Banque Mondiale       05376-36050   \n",
       "2  Morocco  Rabat                  Crédit du Maroc       05376-74352   \n",
       "3  Morocco  Rabat  BMCE BANK Agence Rabat Centrale       05372-16152   \n",
       "4  Morocco  Rabat                  Bank Al-Maghrib     Not available   \n",
       "\n",
       "                              Bank_Address   Bank_Website  \\\n",
       "0       2589+7F2, Av. Moulay Hassan, Rabat  Not available   \n",
       "1  X5G4+4CX, Rue Larbi Ben Abdellah, Rabat  Not available   \n",
       "2                                    Rabat  Not available   \n",
       "3                260 Av. Mohammed V, Rabat  Not available   \n",
       "4          277 Av. Mohammed V, Rabat 10000        bkam.ma   \n",
       "\n",
       "                 Reviewer_Nane  Reviewer_Sart  \\\n",
       "0  Mohammed El idrissi kazzouz              2   \n",
       "1                  Soad Moroco              4   \n",
       "2                Nabil RACHIDI              1   \n",
       "3          Driss TAKKI CHEBIHI              4   \n",
       "4              mohamed mchatte              4   \n",
       "\n",
       "                                       Reviewer_Text Reviewer_Publish_Date  \\\n",
       "0                                                NAN          il y a 5 ans   \n",
       "1                                                NAN          il y a 6 ans   \n",
       "2  Je ne comprends pas le faite de voir des dizai...         il y a 3 mois   \n",
       "3                                                NAN          il y a 7 ans   \n",
       "4                                                NAN         il y a 12 ans   \n",
       "\n",
       "   Reviewer_Like_Reaction                               Reviewer_Profil_Link  \\\n",
       "0                       0  https://www.google.com/maps/contrib/1092060191...   \n",
       "1                       0  https://www.google.com/maps/contrib/1183005452...   \n",
       "2                       0  https://www.google.com/maps/contrib/1056241967...   \n",
       "3                       0  https://www.google.com/maps/contrib/1149958081...   \n",
       "4                       0  https://www.google.com/maps/contrib/1050319361...   \n",
       "\n",
       "   Reviewer_Owner_Reply Reviewer_Owner_Reply_Date Topic  \n",
       "0                   NaN                       NAN   NaN  \n",
       "1                   NaN                       NAN   NaN  \n",
       "2                   NaN                       NAN   NaN  \n",
       "3                   NaN                       NAN   NaN  \n",
       "4                   NaN                       NAN   NaN  "
      ]
     },
     "execution_count": 4,
     "metadata": {},
     "output_type": "execute_result"
    }
   ],
   "source": [
    "df.head()"
   ]
  },
  {
   "cell_type": "markdown",
   "metadata": {},
   "source": [
    "* Test"
   ]
  },
  {
   "cell_type": "code",
   "execution_count": 5,
   "metadata": {},
   "outputs": [
    {
     "name": "stdout",
     "output_type": "stream",
     "text": [
      "REVIEW:  L'application pour acceder a mon compte bug. On n'arrive pas pas a se connecter facilement.\n"
     ]
    }
   ],
   "source": [
    "t = \"L'application pour acceder a mon compte bug. On n'arrive pas pas a se connecter facilement.\"\n",
    "topics = extractor.extract(t, type='SINGLE_SOURCE')"
   ]
  },
  {
   "cell_type": "code",
   "execution_count": 6,
   "metadata": {},
   "outputs": [
    {
     "data": {
      "text/plain": [
       "{'topics': [('acceder a mon compte',\n",
       "   'Negative',\n",
       "   ['bug', 'pas a se connecter facilement'])]}"
      ]
     },
     "execution_count": 6,
     "metadata": {},
     "output_type": "execute_result"
    }
   ],
   "source": [
    "topics"
   ]
  },
  {
   "cell_type": "code",
   "execution_count": 7,
   "metadata": {},
   "outputs": [
    {
     "ename": "SyntaxError",
     "evalue": "invalid syntax (2938429678.py, line 1)",
     "output_type": "error",
     "traceback": [
      "\u001b[0;36m  Cell \u001b[0;32mIn[7], line 1\u001b[0;36m\u001b[0m\n\u001b[0;31m    ***\u001b[0m\n\u001b[0m    ^\u001b[0m\n\u001b[0;31mSyntaxError\u001b[0m\u001b[0;31m:\u001b[0m invalid syntax\n"
     ]
    }
   ],
   "source": [
    "***"
   ]
  },
  {
   "cell_type": "code",
   "execution_count": null,
   "metadata": {},
   "outputs": [],
   "source": [
    "for index, row in tqdm(df.iterrows()):\n",
    "    review = row['Reviewer_Text']\n",
    "    \n",
    "    topics = extractor.extract(review, type='SINGLE_SOURCE')\n",
    "    print(topics)\n",
    "    df.at[index, 'Topic'] = str(topics)"
   ]
  },
  {
   "cell_type": "markdown",
   "metadata": {},
   "source": [
    "* Visualization"
   ]
  },
  {
   "cell_type": "code",
   "execution_count": null,
   "metadata": {},
   "outputs": [],
   "source": [
    "df"
   ]
  },
  {
   "cell_type": "markdown",
   "metadata": {},
   "source": [
    "<div style=\"background-color:orange; padding: 0.5em; color: white;\">\n",
    "    Notice to the developer: This module may return errors due to improper handling. Using it without error management is simply an irresponsible act in production.\n",
    "</div>"
   ]
  },
  {
   "cell_type": "markdown",
   "metadata": {},
   "source": [
    "**Hahaha**. but we are working to improve it resilience."
   ]
  }
 ],
 "metadata": {
  "kernelspec": {
   "display_name": "PyGenomics",
   "language": "python",
   "name": "pygenomics"
  },
  "language_info": {
   "codemirror_mode": {
    "name": "ipython",
    "version": 3
   },
   "file_extension": ".py",
   "mimetype": "text/x-python",
   "name": "python",
   "nbconvert_exporter": "python",
   "pygments_lexer": "ipython3",
   "version": "3.11.7"
  }
 },
 "nbformat": 4,
 "nbformat_minor": 4
}
